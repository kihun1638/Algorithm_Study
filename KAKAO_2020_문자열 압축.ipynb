{
 "cells": [
  {
   "cell_type": "code",
   "execution_count": 1,
   "metadata": {},
   "outputs": [],
   "source": [
    "s = \"aabbaccc\""
   ]
  },
  {
   "cell_type": "code",
   "execution_count": 2,
   "metadata": {},
   "outputs": [],
   "source": [
    "#slicing\n",
    "def sslice(s,num):\n",
    "    # s : string\n",
    "    # num : divisor\n",
    "    sslice = []\n",
    "    slist = list(s)\n",
    "    while(len(slist)>0):\n",
    "        sslice_ = \"\"\n",
    "        for i in range(num):\n",
    "            if(len(slist)>0):\n",
    "                sslice_ += slist.pop(0)\n",
    "        sslice.append(sslice_)\n",
    "        \n",
    "    return sslice"
   ]
  },
  {
   "cell_type": "code",
   "execution_count": 3,
   "metadata": {},
   "outputs": [],
   "source": [
    "# count \n",
    "def snum(sslice):\n",
    "    snum = []\n",
    "    spart_ = sslice[0]\n",
    "    snum_ = 0\n",
    "    for spart in sslice:\n",
    "        if spart_==spart:\n",
    "            snum_ += 1\n",
    "        else:\n",
    "            snum.append(snum_)\n",
    "            snum_ = 1\n",
    "            spart_ = spart\n",
    "    snum.append(snum_)\n",
    "    return snum"
   ]
  },
  {
   "cell_type": "code",
   "execution_count": 4,
   "metadata": {},
   "outputs": [],
   "source": [
    "# combination\n",
    "def combin(sslice,snum):\n",
    "    ind = 0\n",
    "    sstr = \"\"\n",
    "    \n",
    "    if sum(snum)!=len(sslice):\n",
    "        print(\"length mismathced!\")\n",
    "        return -1\n",
    "\n",
    "    for num in snum:\n",
    "        if num != 1:\n",
    "            sstr += str(num)\n",
    "        sstr += sslice[ind]\n",
    "        ind += num\n",
    "    \n",
    "    return len(sstr)"
   ]
  },
  {
   "cell_type": "code",
   "execution_count": 5,
   "metadata": {},
   "outputs": [],
   "source": [
    "import math\n",
    "\n",
    "def answer(s):\n",
    "    slen = []\n",
    "    if len(s)==1:\n",
    "        return 1\n",
    "    for i in range(1,math.floor(len(s)/2)+1):\n",
    "        sslice_ = sslice(s,i)\n",
    "        snum_ = snum(sslice_)\n",
    "        combin_ = combin(sslice_,snum_)\n",
    "        slen.append(combin_)\n",
    "\n",
    "    return min(slen)"
   ]
  },
  {
   "cell_type": "code",
   "execution_count": null,
   "metadata": {},
   "outputs": [],
   "source": []
  }
 ],
 "metadata": {
  "kernelspec": {
   "display_name": "Python 3",
   "language": "python",
   "name": "python3"
  },
  "language_info": {
   "codemirror_mode": {
    "name": "ipython",
    "version": 3
   },
   "file_extension": ".py",
   "mimetype": "text/x-python",
   "name": "python",
   "nbconvert_exporter": "python",
   "pygments_lexer": "ipython3",
   "version": "3.6.10"
  }
 },
 "nbformat": 4,
 "nbformat_minor": 4
}
