{
 "cells": [
  {
   "cell_type": "code",
   "execution_count": 3,
   "metadata": {},
   "outputs": [],
   "source": [
    "import itertools\n",
    "\n",
    "def isprime(n):\n",
    "    if (n==0)|(n==1):\n",
    "        answer = 0\n",
    "    else :\n",
    "        answer = 1\n",
    "        for i in range(2,n//2+1):\n",
    "            if n%i == 0 :\n",
    "                answer = 0\n",
    "                break   \n",
    "    return answer\n",
    "\n",
    "def solution(numbers):\n",
    "    numarr = []\n",
    "    for i in range(len(numbers)):\n",
    "        numarr.append(int(numbers[i]))\n",
    "    \n",
    "    comarr = []\n",
    "    for j in range(1,len(numarr)+1):\n",
    "        for i in itertools.permutations(numarr,j):\n",
    "            numstr = \"\"\n",
    "            for k in range(len(i)):\n",
    "                if i[k]!=\"0\":\n",
    "                    numstr += str(i[k])   \n",
    "            numstr = int(numstr)\n",
    "            comarr.append(numstr)\n",
    "    comarr = set(comarr)\n",
    "    comarr = list(comarr)\n",
    "    answer = 0 \n",
    "    print(comarr)\n",
    "    for i in range(len(comarr)):\n",
    "        answer += isprime(comarr[i])\n",
    "        \n",
    "    return answer"
   ]
  },
  {
   "cell_type": "code",
   "execution_count": null,
   "metadata": {},
   "outputs": [],
   "source": []
  }
 ],
 "metadata": {
  "kernelspec": {
   "display_name": "Python 3",
   "language": "python",
   "name": "python3"
  },
  "language_info": {
   "codemirror_mode": {
    "name": "ipython",
    "version": 3
   },
   "file_extension": ".py",
   "mimetype": "text/x-python",
   "name": "python",
   "nbconvert_exporter": "python",
   "pygments_lexer": "ipython3",
   "version": "3.7.6"
  },
  "toc": {
   "base_numbering": 1,
   "nav_menu": {},
   "number_sections": true,
   "sideBar": true,
   "skip_h1_title": false,
   "title_cell": "Table of Contents",
   "title_sidebar": "Contents",
   "toc_cell": false,
   "toc_position": {},
   "toc_section_display": true,
   "toc_window_display": false
  }
 },
 "nbformat": 4,
 "nbformat_minor": 4
}
