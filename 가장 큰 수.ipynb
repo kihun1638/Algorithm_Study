{
 "cells": [
  {
   "cell_type": "markdown",
   "metadata": {},
   "source": [
    "numbers = [6,10,2]\n",
    "answer = '6210'"
   ]
  },
  {
   "cell_type": "code",
   "execution_count": 255,
   "metadata": {},
   "outputs": [],
   "source": [
    "numbers = [3, 10, 34, 5, 9] \n",
    "answer = '9534330'"
   ]
  },
  {
   "cell_type": "code",
   "execution_count": 355,
   "metadata": {},
   "outputs": [],
   "source": [
    "def mygroup(numbers,digit):\n",
    "    #numbers : list of number\n",
    "    #digit : count the digit \n",
    "    numbers_ = []\n",
    "    for i in numbers:\n",
    "        numbers_.append(int(str(i)[digit-1]))\n",
    "        \n",
    "    order = sorted(range(len(numbers_)), key = lambda k :numbers_[k])\n",
    "    ## GROUP\n",
    "    numset = set(numbers_)\n",
    "    numset = sorted(list(numset))\n",
    "    group = []\n",
    "    for num in numset:\n",
    "        group.append(numbers_.count(num))\n",
    "    \n",
    "    neworder_= []\n",
    "    neworder = []\n",
    "    for j in reversed(group):\n",
    "        neworder_ = []\n",
    "        for k in range(j):\n",
    "             neworder_.append(numbers[order.pop()])\n",
    "        neworder.append(neworder_)\n",
    "    return neworder"
   ]
  },
  {
   "cell_type": "code",
   "execution_count": 357,
   "metadata": {},
   "outputs": [],
   "source": [
    "ans = mygroup([1,1,2,2,2,2,10,13,15,9115,93],1)"
   ]
  },
  {
   "cell_type": "code",
   "execution_count": 363,
   "metadata": {},
   "outputs": [
    {
     "data": {
      "text/plain": [
       "[[9115, 93]]"
      ]
     },
     "execution_count": 363,
     "metadata": {},
     "output_type": "execute_result"
    }
   ],
   "source": [
    "mygroup(ans[0],1)"
   ]
  },
  {
   "cell_type": "code",
   "execution_count": null,
   "metadata": {},
   "outputs": [],
   "source": []
  }
 ],
 "metadata": {
  "kernelspec": {
   "display_name": "Python 3",
   "language": "python",
   "name": "python3"
  },
  "language_info": {
   "codemirror_mode": {
    "name": "ipython",
    "version": 3
   },
   "file_extension": ".py",
   "mimetype": "text/x-python",
   "name": "python",
   "nbconvert_exporter": "python",
   "pygments_lexer": "ipython3",
   "version": "3.7.7"
  },
  "toc": {
   "base_numbering": 1,
   "nav_menu": {},
   "number_sections": true,
   "sideBar": true,
   "skip_h1_title": false,
   "title_cell": "Table of Contents",
   "title_sidebar": "Contents",
   "toc_cell": false,
   "toc_position": {},
   "toc_section_display": true,
   "toc_window_display": false
  }
 },
 "nbformat": 4,
 "nbformat_minor": 4
}
