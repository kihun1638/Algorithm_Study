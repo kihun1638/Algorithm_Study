{
 "cells": [
  {
   "cell_type": "code",
   "execution_count": null,
   "metadata": {},
   "outputs": [],
   "source": [
    "\"aabbaccc\" 7\n",
    "\"ababcdcdababcdcd\" 9\n",
    "\"abcabcdede\" 8\n",
    "\"abcabcabcabcdededededede\" 14\n",
    "\"xababcdcdababcdcd\" 17"
   ]
  },
  {
   "cell_type": "code",
   "execution_count": 71,
   "metadata": {},
   "outputs": [],
   "source": [
    "import math\n",
    "def solution(s):\n",
    "    length = len(s)\n",
    "    numdiv = []\n",
    "    for j in range(1,math.ceil(len(s)/2)+1):\n",
    "        array = []\n",
    "        ref = 0\n",
    "        ## string 쪼개기 \n",
    "        for i in range(0,length,j):\n",
    "            array.append(s[ref:ref+j])\n",
    "            ref += j\n",
    "        ## 단위별 값\n",
    "        num = 1\n",
    "        string = \"\"\n",
    "        for k in range(len(array)):\n",
    "            if k == len(array)-1:\n",
    "                string = string + str(num) + array[k]\n",
    "            elif array[k]==array[k+1]:\n",
    "                num+=1\n",
    "            else:\n",
    "                string = string + str(num) + array[k]\n",
    "                num=1\n",
    "        string = string.replace(\"1\",\"\")\n",
    "        numdiv.append(len(string))\n",
    "    print(numdiv)\n",
    "    answer = min(numdiv)\n",
    "    return answer\n"
   ]
  },
  {
   "cell_type": "code",
   "execution_count": 72,
   "metadata": {},
   "outputs": [],
   "source": [
    "s = \"abcabcabcabcdedededededexxxxxxxxxxxxxxxxxxxxxxxxxxxxxxxzxxxxxxxxxxxxxxxxxxxxxxxxxxxxxxxxxxxxxxxxxxxxxxxxxxxxxxxxxxxzz\""
   ]
  },
  {
   "cell_type": "code",
   "execution_count": 73,
   "metadata": {},
   "outputs": [
    {
     "name": "stdout",
     "output_type": "stream",
     "text": [
      "[32, 27, 30, 36, 43, 37, 56, 55, 65, 69, 75, 71, 80, 76, 88, 86, 101, 100, 80, 98, 97, 96, 95, 117, 117, 117, 117, 90, 117, 117, 117, 117, 117, 117, 117, 117, 117, 117, 117, 117, 117, 117, 117, 117, 117, 117, 117, 117, 117, 117, 117, 117, 117, 117, 117, 117, 117, 117, 117]\n"
     ]
    },
    {
     "data": {
      "text/plain": [
       "27"
      ]
     },
     "execution_count": 73,
     "metadata": {},
     "output_type": "execute_result"
    }
   ],
   "source": [
    "solution(s)"
   ]
  },
  {
   "cell_type": "code",
   "execution_count": 61,
   "metadata": {},
   "outputs": [],
   "source": [
    "array2 = \"123\""
   ]
  },
  {
   "cell_type": "code",
   "execution_count": 63,
   "metadata": {},
   "outputs": [
    {
     "data": {
      "text/plain": [
       "'123'"
      ]
     },
     "execution_count": 63,
     "metadata": {},
     "output_type": "execute_result"
    }
   ],
   "source": [
    "array2[0:4]"
   ]
  },
  {
   "cell_type": "code",
   "execution_count": null,
   "metadata": {},
   "outputs": [],
   "source": []
  }
 ],
 "metadata": {
  "kernelspec": {
   "display_name": "Python 3",
   "language": "python",
   "name": "python3"
  },
  "language_info": {
   "codemirror_mode": {
    "name": "ipython",
    "version": 3
   },
   "file_extension": ".py",
   "mimetype": "text/x-python",
   "name": "python",
   "nbconvert_exporter": "python",
   "pygments_lexer": "ipython3",
   "version": "3.7.6"
  }
 },
 "nbformat": 4,
 "nbformat_minor": 4
}
