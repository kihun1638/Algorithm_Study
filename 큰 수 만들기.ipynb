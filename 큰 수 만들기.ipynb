{
 "cells": [
  {
   "cell_type": "code",
   "execution_count": 428,
   "metadata": {},
   "outputs": [],
   "source": [
    "number = \"1231234\"\n",
    "k = 3\n",
    "answer = \"3234\""
   ]
  },
  {
   "cell_type": "code",
   "execution_count": 424,
   "metadata": {},
   "outputs": [],
   "source": [
    "def solution(number,k):\n",
    "    collected = []\n",
    "\n",
    "    for i,num in enumerate(number):\n",
    "        while len(collected)>0 and collected[-1]<num and k>0:\n",
    "            collected.pop()\n",
    "            k-=1\n",
    "        if k==0:\n",
    "            collected.extend(number[i:])\n",
    "        collected.append(num)\n",
    "    collected = collected[:-k] if k > 0 else collected\n",
    "    answer =\"\".join(collected)\n",
    "    return asnwer"
   ]
  },
  {
   "cell_type": "code",
   "execution_count": 445,
   "metadata": {},
   "outputs": [],
   "source": [
    "def solution(number, k):    \n",
    "    collected = []  \n",
    "    \n",
    "    for i, num in enumerate(number):\n",
    "        while len(collected) > 0 and collected[-1] < num and k > 0:\n",
    "            collected.pop() \n",
    "            k -= 1\n",
    "        if k == 0:\n",
    "            collected += list(number[i:])\n",
    "            break\n",
    "        collected.append(num)\n",
    "        \n",
    "    #collected = collected[:-k] if k > 0 else collected\n",
    "    answer = ''.join(collected)\n",
    "    return answer"
   ]
  },
  {
   "cell_type": "code",
   "execution_count": 432,
   "metadata": {},
   "outputs": [],
   "source": [
    "collected = ['9','4']"
   ]
  },
  {
   "cell_type": "code",
   "execution_count": 446,
   "metadata": {},
   "outputs": [
    {
     "data": {
      "text/plain": [
       "'999'"
      ]
     },
     "execution_count": 446,
     "metadata": {},
     "output_type": "execute_result"
    }
   ],
   "source": [
    "solution(\"999\",2)"
   ]
  },
  {
   "cell_type": "code",
   "execution_count": null,
   "metadata": {},
   "outputs": [],
   "source": []
  }
 ],
 "metadata": {
  "kernelspec": {
   "display_name": "Python 3",
   "language": "python",
   "name": "python3"
  },
  "language_info": {
   "codemirror_mode": {
    "name": "ipython",
    "version": 3
   },
   "file_extension": ".py",
   "mimetype": "text/x-python",
   "name": "python",
   "nbconvert_exporter": "python",
   "pygments_lexer": "ipython3",
   "version": "3.7.6"
  },
  "toc": {
   "base_numbering": 1,
   "nav_menu": {},
   "number_sections": true,
   "sideBar": true,
   "skip_h1_title": false,
   "title_cell": "Table of Contents",
   "title_sidebar": "Contents",
   "toc_cell": false,
   "toc_position": {},
   "toc_section_display": true,
   "toc_window_display": false
  }
 },
 "nbformat": 4,
 "nbformat_minor": 4
}
